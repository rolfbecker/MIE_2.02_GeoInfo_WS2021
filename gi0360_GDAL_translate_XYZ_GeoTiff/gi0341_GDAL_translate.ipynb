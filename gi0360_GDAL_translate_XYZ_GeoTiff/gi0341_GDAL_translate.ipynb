{
 "cells": [
  {
   "cell_type": "markdown",
   "id": "81633f52-5329-4c6b-a93b-0213a219cb63",
   "metadata": {},
   "source": [
    "# GDAL Translate XZY -> GeoTiff\n",
    "\n",
    "GDAL Python bindings: https://gdal.org/api/python.html\n",
    "\n",
    "Stackexchange: https://gis.stackexchange.com/questions/42584/how-to-call-gdal-translate-from-python-code\n",
    "\n",
    "GDAL translation options: https://gdal.org/python/osgeo.gdal-module.html#TranslateOptions\n",
    "\n",
    "GDAL command line program: `gdal_translate -a_srs EPSG:25832 test.xyz test.tif` <br>\n",
    "See https://gis.stackexchange.com/questions/227246/convert-huge-xyz-csv-to-geotiff\n",
    "\n"
   ]
  },
  {
   "cell_type": "code",
   "execution_count": null,
   "id": "7c596d19-0882-4607-8470-fc0e203f1657",
   "metadata": {},
   "outputs": [],
   "source": [
    "!python --version"
   ]
  },
  {
   "cell_type": "code",
   "execution_count": null,
   "id": "96e86fd7-ccfe-45a2-a2da-86ef094b7eb3",
   "metadata": {},
   "outputs": [],
   "source": [
    "!conda env list"
   ]
  },
  {
   "cell_type": "code",
   "execution_count": null,
   "id": "39cc0a7c-6055-400b-9962-bd859a45d8f2",
   "metadata": {},
   "outputs": [],
   "source": [
    "input_dir = r\"../data/original/DTM_Hees_EPSG_25832/\"\n",
    "output_dir = r\"../data/derived/DTM_Hees_EPSG_25832/\""
   ]
  },
  {
   "cell_type": "code",
   "execution_count": null,
   "id": "26a2821e-51dd-4210-8832-66b3e0fee6a3",
   "metadata": {
    "tags": []
   },
   "outputs": [],
   "source": [
    "%%time\n",
    "from osgeo import gdal\n",
    "basename = \"dgm1_32_322_5728_1_nw\"\n",
    "infile = basename + r\".xyz\"\n",
    "print(\"In: \", infile)\n",
    "outfile = basename + r\".tif\"\n",
    "ds = gdal.Open(infile)\n",
    "ds = gdal.Translate(outfile, ds, outputSRS=\"EPSG:25832\")\n",
    "ds = None\n",
    "print(\"Out: \", outfile)"
   ]
  },
  {
   "cell_type": "code",
   "execution_count": null,
   "id": "7dbf0b11-d473-49a4-a65f-7362846f3cab",
   "metadata": {},
   "outputs": [],
   "source": [
    "import pathlib"
   ]
  },
  {
   "cell_type": "code",
   "execution_count": null,
   "id": "1067406b-1d03-4599-b8ba-a0212498266e",
   "metadata": {},
   "outputs": [],
   "source": [
    "pathlib.Path(output_dir).mkdir(parents=True, exist_ok=True)"
   ]
  },
  {
   "cell_type": "code",
   "execution_count": null,
   "id": "5380c8b4-fb6c-43a7-b140-6dd5b5835127",
   "metadata": {},
   "outputs": [],
   "source": [
    "files = pathlib.Path(input_dir).glob('dgm1_32_*_*_nw.xyz.gz')\n",
    "for file in files:\n",
    "    basename = file.stem\n",
    "    print(basename)"
   ]
  },
  {
   "cell_type": "code",
   "execution_count": null,
   "id": "e4aad79b-38b2-4cac-9fc3-3aad94fce141",
   "metadata": {},
   "outputs": [],
   "source": []
  },
  {
   "cell_type": "markdown",
   "id": "3efd0259-1b17-498d-b1b7-676b0c428e29",
   "metadata": {},
   "source": [
    "## Some other sources, maybe useful to develop an in-memory solution\n",
    "\n",
    "https://stackoverflow.com/questions/15352668/download-and-decompress-gzipped-file-in-memory\n",
    "\n",
    "https://gis.stackexchange.com/questions/42584/how-to-call-gdal-translate-from-python-code\n",
    "\n",
    "https://stackoverflow.com/questions/38353139/how-to-open-a-remote-file-with-gdal-in-python-through-a-flask-application\n",
    "\n",
    "https://gist.github.com/jleinonen/5781308\n"
   ]
  },
  {
   "cell_type": "code",
   "execution_count": null,
   "id": "968b6db3-1b67-4835-a4db-3e17913f01d0",
   "metadata": {},
   "outputs": [],
   "source": []
  }
 ],
 "metadata": {
  "kernelspec": {
   "display_name": "Python 3 (ipykernel)",
   "language": "python",
   "name": "python3"
  },
  "language_info": {
   "codemirror_mode": {
    "name": "ipython",
    "version": 3
   },
   "file_extension": ".py",
   "mimetype": "text/x-python",
   "name": "python",
   "nbconvert_exporter": "python",
   "pygments_lexer": "ipython3",
   "version": "3.9.7"
  }
 },
 "nbformat": 4,
 "nbformat_minor": 5
}
