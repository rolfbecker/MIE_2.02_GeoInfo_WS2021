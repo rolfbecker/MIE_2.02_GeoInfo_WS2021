{
 "cells": [
  {
   "cell_type": "markdown",
   "id": "81633f52-5329-4c6b-a93b-0213a219cb63",
   "metadata": {
    "tags": []
   },
   "source": [
    "# GDAL Translate XZY -> GeoTiff\n",
    "\n",
    "GDAL Python bindings: https://gdal.org/api/python.html\n",
    "\n",
    "Stackexchange: https://gis.stackexchange.com/questions/42584/how-to-call-gdal-translate-from-python-code\n",
    "\n",
    "GDAL translation options: https://gdal.org/python/osgeo.gdal-module.html#TranslateOptions\n",
    "\n",
    "GDAL command line program: `gdal_translate -a_srs EPSG:25832 test.xyz test.tif` <br>\n",
    "See https://gis.stackexchange.com/questions/227246/convert-huge-xyz-csv-to-geotiff\n",
    "\n"
   ]
  },
  {
   "cell_type": "code",
   "execution_count": 17,
   "id": "7c596d19-0882-4607-8470-fc0e203f1657",
   "metadata": {},
   "outputs": [
    {
     "name": "stdout",
     "output_type": "stream",
     "text": [
      "Python 3.9.7\n"
     ]
    }
   ],
   "source": [
    "!python --version"
   ]
  },
  {
   "cell_type": "code",
   "execution_count": 18,
   "id": "96e86fd7-ccfe-45a2-a2da-86ef094b7eb3",
   "metadata": {},
   "outputs": [
    {
     "name": "stdout",
     "output_type": "stream",
     "text": [
      "# conda environments:\n",
      "#\n",
      "base                     C:\\Users\\rb\\Anaconda3\n",
      "db                       C:\\Users\\rb\\Anaconda3\\envs\\db\n",
      "emrp                     C:\\Users\\rb\\Anaconda3\\envs\\emrp\n",
      "geo                   *  C:\\Users\\rb\\Anaconda3\\envs\\geo\n",
      "widgets-tutorial         C:\\Users\\rb\\Anaconda3\\envs\\widgets-tutorial\n",
      "\n"
     ]
    }
   ],
   "source": [
    "!conda env list"
   ]
  },
  {
   "cell_type": "code",
   "execution_count": 19,
   "id": "39cc0a7c-6055-400b-9962-bd859a45d8f2",
   "metadata": {},
   "outputs": [],
   "source": [
    "# The final directories. Will be used later.\n",
    "input_dir = r\"../data/original/NRW_DTM_Hees_EPSG_25832_XYZ/\"\n",
    "output_dir = r\"../data/derived/NRW_DTM_Hees_EPSG_25832_GeoTiff/\""
   ]
  },
  {
   "cell_type": "markdown",
   "id": "7c1ae53e-1d1e-4ed2-aec1-6c817c24558f",
   "metadata": {},
   "source": [
    "**Download** a single gzipped XYZ file manually into the correct notebook folderfor testing: <br>\n",
    "https://www.opengeodata.nrw.de/produkte/geobasis/hm/dgm1_xyz/dgm1_xyz/dgm1_32_322_5728_1_nw.xyz.gz\n",
    "\n",
    "**Unzip** the file externally."
   ]
  },
  {
   "cell_type": "markdown",
   "id": "090e8a89-3e09-45a1-9680-87fef323a38c",
   "metadata": {},
   "source": [
    "## Use `gdal.Translate` to convert the file format.\n",
    "\n",
    "This takes time. **Patience**"
   ]
  },
  {
   "cell_type": "code",
   "execution_count": 20,
   "id": "26a2821e-51dd-4210-8832-66b3e0fee6a3",
   "metadata": {
    "tags": []
   },
   "outputs": [
    {
     "name": "stdout",
     "output_type": "stream",
     "text": [
      "In:   dgm1_32_322_5728_1_nw.xyz\n",
      "Out:  dgm1_32_322_5728_1_nw.tif\n",
      "Wall time: 7.87 s\n"
     ]
    }
   ],
   "source": [
    "%%time\n",
    "from osgeo import gdal\n",
    "basename = \"dgm1_32_322_5728_1_nw\"\n",
    "infile = basename + r\".xyz\"\n",
    "print(\"In:  \", infile)\n",
    "outfile = basename + r\".tif\"\n",
    "ds = gdal.Open(infile)\n",
    "ds = gdal.Translate(outfile, ds, outputSRS=\"EPSG:25832\")\n",
    "ds = None\n",
    "print(\"Out: \", outfile)"
   ]
  },
  {
   "cell_type": "markdown",
   "id": "f0afc6de-bb66-42de-8286-3568dee1c83a",
   "metadata": {},
   "source": [
    "## Play with the pathlib library, on object oriented interface to the file system."
   ]
  },
  {
   "cell_type": "code",
   "execution_count": 21,
   "id": "7dbf0b11-d473-49a4-a65f-7362846f3cab",
   "metadata": {},
   "outputs": [],
   "source": [
    "import pathlib"
   ]
  },
  {
   "cell_type": "code",
   "execution_count": 22,
   "id": "1067406b-1d03-4599-b8ba-a0212498266e",
   "metadata": {},
   "outputs": [],
   "source": [
    "pathlib.Path(output_dir).mkdir(parents=True, exist_ok=True)"
   ]
  },
  {
   "cell_type": "code",
   "execution_count": 23,
   "id": "5380c8b4-fb6c-43a7-b140-6dd5b5835127",
   "metadata": {},
   "outputs": [
    {
     "name": "stdout",
     "output_type": "stream",
     "text": [
      "dgm1_32_322_5722_1_nw.xyz\n",
      "dgm1_32_322_5723_1_nw.xyz\n",
      "dgm1_32_322_5724_1_nw.xyz\n",
      "dgm1_32_322_5725_1_nw.xyz\n",
      "dgm1_32_323_5722_1_nw.xyz\n",
      "dgm1_32_323_5723_1_nw.xyz\n",
      "dgm1_32_323_5724_1_nw.xyz\n",
      "dgm1_32_323_5725_1_nw.xyz\n",
      "dgm1_32_324_5722_1_nw.xyz\n",
      "dgm1_32_324_5723_1_nw.xyz\n",
      "dgm1_32_324_5724_1_nw.xyz\n",
      "dgm1_32_324_5725_1_nw.xyz\n",
      "dgm1_32_325_5722_1_nw.xyz\n",
      "dgm1_32_325_5723_1_nw.xyz\n",
      "dgm1_32_325_5724_1_nw.xyz\n",
      "dgm1_32_325_5725_1_nw.xyz\n"
     ]
    }
   ],
   "source": [
    "files = pathlib.Path(input_dir).glob('dgm1_32_*_*_nw.xyz.gz')\n",
    "for file in files:\n",
    "    basename = file.stem\n",
    "    print(basename)"
   ]
  },
  {
   "cell_type": "code",
   "execution_count": null,
   "id": "e4aad79b-38b2-4cac-9fc3-3aad94fce141",
   "metadata": {},
   "outputs": [],
   "source": []
  },
  {
   "cell_type": "markdown",
   "id": "3efd0259-1b17-498d-b1b7-676b0c428e29",
   "metadata": {},
   "source": [
    "## Some other sources, maybe useful to develop an in-memory solution\n",
    "\n",
    "https://stackoverflow.com/questions/15352668/download-and-decompress-gzipped-file-in-memory\n",
    "\n",
    "https://gis.stackexchange.com/questions/42584/how-to-call-gdal-translate-from-python-code\n",
    "\n",
    "https://stackoverflow.com/questions/38353139/how-to-open-a-remote-file-with-gdal-in-python-through-a-flask-application\n",
    "\n",
    "https://gist.github.com/jleinonen/5781308\n"
   ]
  },
  {
   "cell_type": "code",
   "execution_count": null,
   "id": "968b6db3-1b67-4835-a4db-3e17913f01d0",
   "metadata": {},
   "outputs": [],
   "source": []
  }
 ],
 "metadata": {
  "kernelspec": {
   "display_name": "Python 3 (ipykernel)",
   "language": "python",
   "name": "python3"
  },
  "language_info": {
   "codemirror_mode": {
    "name": "ipython",
    "version": 3
   },
   "file_extension": ".py",
   "mimetype": "text/x-python",
   "name": "python",
   "nbconvert_exporter": "python",
   "pygments_lexer": "ipython3",
   "version": "3.9.7"
  }
 },
 "nbformat": 4,
 "nbformat_minor": 5
}
